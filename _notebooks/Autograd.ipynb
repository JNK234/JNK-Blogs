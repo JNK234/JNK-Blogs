{
 "cells": [
  {
   "cell_type": "markdown",
   "id": "parliamentary-serve",
   "metadata": {},
   "source": [
    "# AutoGrad in PyTorch\n",
    "> Exploring the Magic of Backpropagation\n",
    "\n",
    "- toc: true\n",
    "- badges: true\n",
    "- comments: false\n",
    "- categories: [PyTorch,Autograd,Backpropagation]"
   ]
  },
  {
   "cell_type": "markdown",
   "id": "demanding-denver",
   "metadata": {},
   "source": [
    "# Introduction\n",
    "\n",
    "Deep Neural Networks usually stands out from most of the machine learning algorithms in due to its ability to discover hidden patterns and features from the data by employing many layers of neurons between the inputs and output neurons. This is possible due to an important step in training process `Backpropagation`\n",
    "\n",
    "Let's go through in detail"
   ]
  },
  {
   "cell_type": "markdown",
   "id": "parental-curtis",
   "metadata": {},
   "source": [
    "## Training Neural Networks\n",
    "\n",
    "Generally training a Neural Network involves two steps:\n",
    "\n",
    "1. **Forward Propagation**: A step where the neural network tries to make a guess about the correct output. This is done through propagating the input through various functions and layers (consisting weights and biases).\n",
    "\n",
    "\n",
    "2. **BackPropagation**: This is the fundamental step where learning takes place. It follows the following steps:\n",
    "* First error is calculated by  measuring how much the predicted output differs from the actual output. \n",
    "* Then derivatives of error wrt parameters are calculated by traversing backwards through the network.\n",
    "* Then the weights are updated such that error is minimized in accordance with an optimization technique called `Gradient Descent`. "
   ]
  },
  {
   "cell_type": "code",
   "execution_count": null,
   "id": "cathedral-tomorrow",
   "metadata": {},
   "outputs": [],
   "source": []
  },
  {
   "cell_type": "code",
   "execution_count": null,
   "id": "perfect-franchise",
   "metadata": {},
   "outputs": [],
   "source": []
  },
  {
   "cell_type": "code",
   "execution_count": null,
   "id": "incident-utility",
   "metadata": {},
   "outputs": [],
   "source": []
  },
  {
   "cell_type": "code",
   "execution_count": null,
   "id": "southeast-xerox",
   "metadata": {},
   "outputs": [],
   "source": []
  },
  {
   "cell_type": "code",
   "execution_count": null,
   "id": "united-capability",
   "metadata": {},
   "outputs": [],
   "source": []
  },
  {
   "cell_type": "code",
   "execution_count": null,
   "id": "temporal-miller",
   "metadata": {},
   "outputs": [],
   "source": []
  },
  {
   "cell_type": "code",
   "execution_count": null,
   "id": "circular-athletics",
   "metadata": {},
   "outputs": [],
   "source": []
  },
  {
   "cell_type": "code",
   "execution_count": null,
   "id": "confused-specialist",
   "metadata": {},
   "outputs": [],
   "source": []
  },
  {
   "cell_type": "code",
   "execution_count": null,
   "id": "racial-float",
   "metadata": {},
   "outputs": [],
   "source": []
  },
  {
   "cell_type": "code",
   "execution_count": null,
   "id": "developmental-elements",
   "metadata": {},
   "outputs": [],
   "source": []
  },
  {
   "cell_type": "code",
   "execution_count": null,
   "id": "muslim-argument",
   "metadata": {},
   "outputs": [],
   "source": []
  },
  {
   "cell_type": "code",
   "execution_count": null,
   "id": "superb-smith",
   "metadata": {},
   "outputs": [],
   "source": []
  },
  {
   "cell_type": "code",
   "execution_count": null,
   "id": "official-neutral",
   "metadata": {},
   "outputs": [],
   "source": []
  },
  {
   "cell_type": "code",
   "execution_count": null,
   "id": "selected-canberra",
   "metadata": {},
   "outputs": [],
   "source": []
  },
  {
   "cell_type": "code",
   "execution_count": null,
   "id": "small-flight",
   "metadata": {},
   "outputs": [],
   "source": []
  },
  {
   "cell_type": "code",
   "execution_count": null,
   "id": "solar-province",
   "metadata": {},
   "outputs": [],
   "source": []
  },
  {
   "cell_type": "code",
   "execution_count": null,
   "id": "violent-permit",
   "metadata": {},
   "outputs": [],
   "source": []
  }
 ],
 "metadata": {
  "kernelspec": {
   "display_name": "Python 3",
   "language": "python",
   "name": "python3"
  },
  "language_info": {
   "codemirror_mode": {
    "name": "ipython",
    "version": 3
   },
   "file_extension": ".py",
   "mimetype": "text/x-python",
   "name": "python",
   "nbconvert_exporter": "python",
   "pygments_lexer": "ipython3",
   "version": "3.8.5"
  }
 },
 "nbformat": 4,
 "nbformat_minor": 5
}
